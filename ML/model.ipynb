{
 "cells": [
  {
   "cell_type": "code",
   "execution_count": 38,
   "metadata": {},
   "outputs": [],
   "source": [
    "from sklearn.linear_model import LinearRegression\n",
    "from sklearn.tree import DecisionTreeRegressor\n",
    "from sklearn.ensemble import RandomForestRegressor, GradientBoostingRegressor\n",
    "from sklearn.neighbors import KNeighborsRegressor\n",
    "from sklearn.model_selection import train_test_split\n",
    "from sklearn.metrics import (\n",
    "    mean_absolute_error,\n",
    "    r2_score,\n",
    "    precision_score,\n",
    "    recall_score\n",
    ")\n",
    "import numpy as np\n",
    "import pandas as pd\n",
    "import joblib\n",
    "import pickle\n",
    "import datetime"
   ]
  },
  {
   "cell_type": "code",
   "execution_count": 39,
   "metadata": {},
   "outputs": [],
   "source": [
    "data = pd.read_csv(\"final_merged_data.csv\")"
   ]
  },
  {
   "cell_type": "code",
   "execution_count": 40,
   "metadata": {},
   "outputs": [
    {
     "data": {
      "text/plain": [
       "31"
      ]
     },
     "execution_count": 40,
     "metadata": {},
     "output_type": "execute_result"
    }
   ],
   "source": [
    "data[data[\"station_id\"] == 1][\"capacity\"].iloc[0]"
   ]
  },
  {
   "cell_type": "code",
   "execution_count": 41,
   "metadata": {},
   "outputs": [],
   "source": [
    "data[\"temperature\"] = (data[\"max_air_temperature_celsius\"] + data[\"min_air_temperature_celsius\"]) / 2\n",
    "data[\"humidity\"] = (data[\"max_relative_humidity_percent\"] + data[\"min_relative_humidity_percent\"]) / 2\n",
    "data[\"pressure\"] = (data[\"max_barometric_pressure_hpa\"] + data[\"min_barometric_pressure_hpa\"]) / 2\n",
    "\n",
    "data = data[[\"num_bikes_available\",\"station_id\",\"year\", \"month\", \"day\", \"hour\", \"temperature\", \"humidity\", \"pressure\"]]\n",
    "data = data.groupby([\"station_id\", \"year\", \"month\", \"day\", \"hour\"]).mean().reset_index()\n",
    "data[\"num_bikes_available\"] = round(data[\"num_bikes_available\"])\n",
    "data[\"day_name\"] = pd.to_datetime(data[[\"year\", \"month\", \"day\"]]).dt.day_name()\n",
    "data[\"is_weekday\"] = data[\"day_name\"].apply(lambda x: 0 if x == \"Sunday\" or x==\"Saturday\" else 1)\n",
    "data = data[[\"num_bikes_available\",\"station_id\", \"is_weekday\", \"hour\", \"temperature\", \"humidity\", \"pressure\"]]"
   ]
  },
  {
   "cell_type": "code",
   "execution_count": 42,
   "metadata": {},
   "outputs": [
    {
     "data": {
      "text/html": [
       "<div>\n",
       "<style scoped>\n",
       "    .dataframe tbody tr th:only-of-type {\n",
       "        vertical-align: middle;\n",
       "    }\n",
       "\n",
       "    .dataframe tbody tr th {\n",
       "        vertical-align: top;\n",
       "    }\n",
       "\n",
       "    .dataframe thead th {\n",
       "        text-align: right;\n",
       "    }\n",
       "</style>\n",
       "<table border=\"1\" class=\"dataframe\">\n",
       "  <thead>\n",
       "    <tr style=\"text-align: right;\">\n",
       "      <th></th>\n",
       "      <th>num_bikes_available</th>\n",
       "      <th>station_id</th>\n",
       "      <th>is_weekday</th>\n",
       "      <th>hour</th>\n",
       "      <th>temperature</th>\n",
       "      <th>humidity</th>\n",
       "      <th>pressure</th>\n",
       "    </tr>\n",
       "  </thead>\n",
       "  <tbody>\n",
       "    <tr>\n",
       "      <th>0</th>\n",
       "      <td>20.0</td>\n",
       "      <td>1</td>\n",
       "      <td>0</td>\n",
       "      <td>0</td>\n",
       "      <td>13.890000</td>\n",
       "      <td>84.475000</td>\n",
       "      <td>1002.422500</td>\n",
       "    </tr>\n",
       "    <tr>\n",
       "      <th>1</th>\n",
       "      <td>20.0</td>\n",
       "      <td>1</td>\n",
       "      <td>0</td>\n",
       "      <td>5</td>\n",
       "      <td>12.235000</td>\n",
       "      <td>87.950000</td>\n",
       "      <td>1000.200000</td>\n",
       "    </tr>\n",
       "    <tr>\n",
       "      <th>2</th>\n",
       "      <td>22.0</td>\n",
       "      <td>1</td>\n",
       "      <td>0</td>\n",
       "      <td>6</td>\n",
       "      <td>11.263333</td>\n",
       "      <td>89.583333</td>\n",
       "      <td>1000.108333</td>\n",
       "    </tr>\n",
       "    <tr>\n",
       "      <th>3</th>\n",
       "      <td>25.0</td>\n",
       "      <td>1</td>\n",
       "      <td>0</td>\n",
       "      <td>7</td>\n",
       "      <td>11.236667</td>\n",
       "      <td>89.633333</td>\n",
       "      <td>1000.151667</td>\n",
       "    </tr>\n",
       "    <tr>\n",
       "      <th>4</th>\n",
       "      <td>30.0</td>\n",
       "      <td>1</td>\n",
       "      <td>0</td>\n",
       "      <td>8</td>\n",
       "      <td>11.680000</td>\n",
       "      <td>86.300000</td>\n",
       "      <td>1000.325000</td>\n",
       "    </tr>\n",
       "  </tbody>\n",
       "</table>\n",
       "</div>"
      ],
      "text/plain": [
       "   num_bikes_available  station_id  is_weekday  hour  temperature   humidity  \\\n",
       "0                 20.0           1           0     0    13.890000  84.475000   \n",
       "1                 20.0           1           0     5    12.235000  87.950000   \n",
       "2                 22.0           1           0     6    11.263333  89.583333   \n",
       "3                 25.0           1           0     7    11.236667  89.633333   \n",
       "4                 30.0           1           0     8    11.680000  86.300000   \n",
       "\n",
       "      pressure  \n",
       "0  1002.422500  \n",
       "1  1000.200000  \n",
       "2  1000.108333  \n",
       "3  1000.151667  \n",
       "4  1000.325000  "
      ]
     },
     "execution_count": 42,
     "metadata": {},
     "output_type": "execute_result"
    }
   ],
   "source": [
    "data.head()"
   ]
  },
  {
   "cell_type": "code",
   "execution_count": 43,
   "metadata": {},
   "outputs": [],
   "source": [
    "models = {\n",
    "    \"LinearRegression\": LinearRegression(),\n",
    "    \"DecisionTree\": DecisionTreeRegressor(random_state=42),\n",
    "    \"RandomForest\": RandomForestRegressor(n_estimators=50, random_state=42),\n",
    "    \"KNN\": KNeighborsRegressor(n_neighbors=5),\n",
    "    \"GradientBoosting\": GradientBoostingRegressor(random_state=42)\n",
    "}\n",
    "\n",
    "metrics = [\"mae\", \"r2\", \"precision\", \"recall\"]\n",
    "model_performance = {model: {m: [] for m in metrics} for model in models}\n",
    "\n",
    "unique_ids = data[\"station_id\"].unique()"
   ]
  },
  {
   "cell_type": "code",
   "execution_count": 44,
   "metadata": {},
   "outputs": [
    {
     "name": "stdout",
     "output_type": "stream",
     "text": [
      " Average Performance Across All Stations:\n",
      " Model: LinearRegression\n",
      "  MAE      : 5.6490\n",
      "  R2       : 0.1550\n",
      "  PRECISION: 0.9013\n",
      "  RECALL   : 0.9793\n",
      " Model: DecisionTree\n",
      "  MAE      : 3.5598\n",
      "  R2       : 0.3448\n",
      "  PRECISION: 0.9334\n",
      "  RECALL   : 0.9368\n",
      " Model: RandomForest\n",
      "  MAE      : 3.2262\n",
      "  R2       : 0.6248\n",
      "  PRECISION: 0.9014\n",
      "  RECALL   : 0.9825\n",
      " Model: KNN\n",
      "  MAE      : 4.0989\n",
      "  R2       : 0.4495\n",
      "  PRECISION: 0.9044\n",
      "  RECALL   : 0.9816\n",
      " Model: GradientBoosting\n",
      "  MAE      : 3.8314\n",
      "  R2       : 0.5351\n",
      "  PRECISION: 0.9030\n",
      "  RECALL   : 0.9792\n"
     ]
    }
   ],
   "source": [
    "for station_id in unique_ids:\n",
    "    id_data = data[data[\"station_id\"] == station_id]\n",
    "    \n",
    "    X = id_data[[\"is_weekday\", \"hour\", \"temperature\", \"humidity\", \"pressure\"]]\n",
    "    y = id_data[\"num_bikes_available\"]\n",
    "\n",
    "    X_train, X_test, y_train, y_test = train_test_split(\n",
    "        X, y, test_size=0.3, random_state=42\n",
    "    )\n",
    "\n",
    "    for name, model in models.items():\n",
    "        model.fit(X_train, y_train)\n",
    "        y_pred = model.predict(X_test)\n",
    "\n",
    "        mae = mean_absolute_error(y_test, y_pred)\n",
    "        r2 = r2_score(y_test, y_pred)\n",
    "\n",
    "        y_test_bin = (y_test > 0).astype(int)\n",
    "        y_pred_bin = (y_pred > 0).astype(int)\n",
    "\n",
    "        precision = precision_score(y_test_bin, y_pred_bin, zero_division=0)\n",
    "        recall = recall_score(y_test_bin, y_pred_bin, zero_division=0)\n",
    "\n",
    "        model_performance[name][\"mae\"].append(mae)\n",
    "        model_performance[name][\"r2\"].append(r2)\n",
    "        model_performance[name][\"precision\"].append(precision)\n",
    "        model_performance[name][\"recall\"].append(recall)\n",
    "\n",
    "# Output average performance\n",
    "print(\" Average Performance Across All Stations:\")\n",
    "for name, scores in model_performance.items():\n",
    "    print(f\" Model: {name}\")\n",
    "    for metric in metrics:\n",
    "        avg_score = np.mean(scores[metric])\n",
    "        print(f\"  {metric.upper():<9}: {avg_score:.4f}\")"
   ]
  },
  {
   "cell_type": "code",
   "execution_count": 45,
   "metadata": {},
   "outputs": [
    {
     "data": {
      "text/plain": [
       "Index(['num_bikes_available', 'station_id', 'is_weekday', 'hour',\n",
       "       'temperature', 'humidity', 'pressure'],\n",
       "      dtype='object')"
      ]
     },
     "execution_count": 45,
     "metadata": {},
     "output_type": "execute_result"
    }
   ],
   "source": [
    "data.keys()"
   ]
  },
  {
   "cell_type": "code",
   "execution_count": 48,
   "metadata": {},
   "outputs": [
    {
     "name": "stdout",
     "output_type": "stream",
     "text": [
      "Model saved to avail_station_1.pkl for station 1\n",
      "Model saved to avail_station_2.pkl for station 2\n",
      "Model saved to avail_station_3.pkl for station 3\n",
      "Model saved to avail_station_4.pkl for station 4\n",
      "Model saved to avail_station_5.pkl for station 5\n",
      "Model saved to avail_station_6.pkl for station 6\n",
      "Model saved to avail_station_7.pkl for station 7\n",
      "Model saved to avail_station_8.pkl for station 8\n",
      "Model saved to avail_station_9.pkl for station 9\n",
      "Model saved to avail_station_10.pkl for station 10\n",
      "Model saved to avail_station_11.pkl for station 11\n",
      "Model saved to avail_station_12.pkl for station 12\n",
      "Model saved to avail_station_13.pkl for station 13\n",
      "Model saved to avail_station_14.pkl for station 14\n",
      "Model saved to avail_station_15.pkl for station 15\n",
      "Model saved to avail_station_16.pkl for station 16\n",
      "Model saved to avail_station_17.pkl for station 17\n",
      "Model saved to avail_station_18.pkl for station 18\n",
      "Model saved to avail_station_19.pkl for station 19\n",
      "Model saved to avail_station_20.pkl for station 20\n",
      "Model saved to avail_station_21.pkl for station 21\n",
      "Model saved to avail_station_22.pkl for station 22\n",
      "Model saved to avail_station_23.pkl for station 23\n",
      "Model saved to avail_station_24.pkl for station 24\n",
      "Model saved to avail_station_25.pkl for station 25\n",
      "Model saved to avail_station_26.pkl for station 26\n",
      "Model saved to avail_station_27.pkl for station 27\n",
      "Model saved to avail_station_28.pkl for station 28\n",
      "Model saved to avail_station_29.pkl for station 29\n",
      "Model saved to avail_station_30.pkl for station 30\n",
      "Model saved to avail_station_31.pkl for station 31\n",
      "Model saved to avail_station_32.pkl for station 32\n",
      "Model saved to avail_station_33.pkl for station 33\n",
      "Model saved to avail_station_34.pkl for station 34\n",
      "Model saved to avail_station_35.pkl for station 35\n",
      "Model saved to avail_station_36.pkl for station 36\n",
      "Model saved to avail_station_37.pkl for station 37\n",
      "Model saved to avail_station_38.pkl for station 38\n",
      "Model saved to avail_station_39.pkl for station 39\n",
      "Model saved to avail_station_40.pkl for station 40\n",
      "Model saved to avail_station_41.pkl for station 41\n",
      "Model saved to avail_station_42.pkl for station 42\n",
      "Model saved to avail_station_43.pkl for station 43\n",
      "Model saved to avail_station_44.pkl for station 44\n",
      "Model saved to avail_station_45.pkl for station 45\n",
      "Model saved to avail_station_47.pkl for station 47\n",
      "Model saved to avail_station_48.pkl for station 48\n",
      "Model saved to avail_station_49.pkl for station 49\n",
      "Model saved to avail_station_50.pkl for station 50\n",
      "Model saved to avail_station_51.pkl for station 51\n",
      "Model saved to avail_station_52.pkl for station 52\n",
      "Model saved to avail_station_53.pkl for station 53\n",
      "Model saved to avail_station_54.pkl for station 54\n",
      "Model saved to avail_station_55.pkl for station 55\n",
      "Model saved to avail_station_56.pkl for station 56\n",
      "Model saved to avail_station_57.pkl for station 57\n",
      "Model saved to avail_station_58.pkl for station 58\n",
      "Model saved to avail_station_59.pkl for station 59\n",
      "Model saved to avail_station_60.pkl for station 60\n",
      "Model saved to avail_station_61.pkl for station 61\n",
      "Model saved to avail_station_62.pkl for station 62\n",
      "Model saved to avail_station_63.pkl for station 63\n",
      "Model saved to avail_station_64.pkl for station 64\n",
      "Model saved to avail_station_65.pkl for station 65\n",
      "Model saved to avail_station_66.pkl for station 66\n",
      "Model saved to avail_station_67.pkl for station 67\n",
      "Model saved to avail_station_68.pkl for station 68\n",
      "Model saved to avail_station_69.pkl for station 69\n",
      "Model saved to avail_station_70.pkl for station 70\n",
      "Model saved to avail_station_71.pkl for station 71\n",
      "Model saved to avail_station_72.pkl for station 72\n",
      "Model saved to avail_station_73.pkl for station 73\n",
      "Model saved to avail_station_74.pkl for station 74\n",
      "Model saved to avail_station_75.pkl for station 75\n",
      "Model saved to avail_station_76.pkl for station 76\n",
      "Model saved to avail_station_77.pkl for station 77\n",
      "Model saved to avail_station_78.pkl for station 78\n",
      "Model saved to avail_station_79.pkl for station 79\n",
      "Model saved to avail_station_80.pkl for station 80\n",
      "Model saved to avail_station_82.pkl for station 82\n",
      "Model saved to avail_station_83.pkl for station 83\n",
      "Model saved to avail_station_84.pkl for station 84\n",
      "Model saved to avail_station_85.pkl for station 85\n",
      "Model saved to avail_station_86.pkl for station 86\n",
      "Model saved to avail_station_87.pkl for station 87\n",
      "Model saved to avail_station_88.pkl for station 88\n",
      "Model saved to avail_station_89.pkl for station 89\n",
      "Model saved to avail_station_90.pkl for station 90\n",
      "Model saved to avail_station_91.pkl for station 91\n",
      "Model saved to avail_station_92.pkl for station 92\n",
      "Model saved to avail_station_93.pkl for station 93\n",
      "Model saved to avail_station_94.pkl for station 94\n",
      "Model saved to avail_station_95.pkl for station 95\n",
      "Model saved to avail_station_96.pkl for station 96\n",
      "Model saved to avail_station_97.pkl for station 97\n",
      "Model saved to avail_station_98.pkl for station 98\n",
      "Model saved to avail_station_99.pkl for station 99\n",
      "Model saved to avail_station_100.pkl for station 100\n",
      "Model saved to avail_station_101.pkl for station 101\n",
      "Model saved to avail_station_102.pkl for station 102\n",
      "Model saved to avail_station_103.pkl for station 103\n",
      "Model saved to avail_station_104.pkl for station 104\n",
      "Model saved to avail_station_105.pkl for station 105\n",
      "Model saved to avail_station_106.pkl for station 106\n",
      "Model saved to avail_station_107.pkl for station 107\n",
      "Model saved to avail_station_108.pkl for station 108\n",
      "Model saved to avail_station_109.pkl for station 109\n",
      "Model saved to avail_station_110.pkl for station 110\n",
      "Model saved to avail_station_111.pkl for station 111\n",
      "Model saved to avail_station_112.pkl for station 112\n",
      "Model saved to avail_station_113.pkl for station 113\n",
      "Model saved to avail_station_114.pkl for station 114\n",
      "Model saved to avail_station_115.pkl for station 115\n",
      "Model saved to avail_station_116.pkl for station 116\n",
      "Model saved to avail_station_117.pkl for station 117\n"
     ]
    }
   ],
   "source": [
    "for id in unique_ids:\n",
    "    # capacity = data[data[\"station_id\"] == id][\"capacity\"].iloc[0]\n",
    "    id_data = data[data[\"station_id\"] == id]\n",
    "    X = id_data[[\"is_weekday\", \"hour\", \"temperature\", \"humidity\", \"pressure\"]]\n",
    "    y = id_data[\"num_bikes_available\"]\n",
    "    X_train, X_test, y_train, y_test = train_test_split(X, y, test_size=0.3, random_state=42)\n",
    "\n",
    "    model = RandomForestRegressor(n_estimators=50, random_state=42)\n",
    "    model.fit(X_train, y_train)\n",
    "\n",
    "    y_pred = model.predict(X_test)\n",
    "\n",
    "\n",
    "    model_filename = f\"avail_station_{id}.pkl\"\n",
    "    with open(model_filename, \"wb\") as file:\n",
    "        pickle.dump(model, file)\n",
    "\n",
    "    print(f\"Model saved to {model_filename} for station {id}\")\n",
    "\n"
   ]
  },
  {
   "cell_type": "code",
   "execution_count": 47,
   "metadata": {},
   "outputs": [],
   "source": [
    "# Load the pickled model from the .pkl file\n"
   ]
  },
  {
   "cell_type": "code",
   "execution_count": 83,
   "metadata": {},
   "outputs": [
    {
     "name": "stdout",
     "output_type": "stream",
     "text": [
      "Predictions: [15.42923073 19.94882091 17.31518963]\n"
     ]
    }
   ],
   "source": [
    "bikes_predict(1, [1, 0, 1], [8, 14, 17], [15.5, 20.2, 18.3], [80, 65, 75], [1012, 1010, 1013])"
   ]
  },
  {
   "cell_type": "code",
   "execution_count": null,
   "metadata": {},
   "outputs": [],
   "source": []
  }
 ],
 "metadata": {
  "kernelspec": {
   "display_name": "base",
   "language": "python",
   "name": "python3"
  },
  "language_info": {
   "codemirror_mode": {
    "name": "ipython",
    "version": 3
   },
   "file_extension": ".py",
   "mimetype": "text/x-python",
   "name": "python",
   "nbconvert_exporter": "python",
   "pygments_lexer": "ipython3",
   "version": "3.12.7"
  }
 },
 "nbformat": 4,
 "nbformat_minor": 2
}
